{
  "nbformat": 4,
  "nbformat_minor": 0,
  "metadata": {
    "colab": {
      "provenance": [],
      "authorship_tag": "ABX9TyPsqeODEMSua6KdawD9ppK2",
      "include_colab_link": true
    },
    "kernelspec": {
      "name": "python3",
      "display_name": "Python 3"
    },
    "language_info": {
      "name": "python"
    }
  },
  "cells": [
    {
      "cell_type": "markdown",
      "metadata": {
        "id": "view-in-github",
        "colab_type": "text"
      },
      "source": [
        "<a href=\"https://colab.research.google.com/github/Omjade/RegressionModel/blob/main/APACHE_SPARK.ipynb\" target=\"_parent\"><img src=\"https://colab.research.google.com/assets/colab-badge.svg\" alt=\"Open In Colab\"/></a>"
      ]
    },
    {
      "cell_type": "code",
      "execution_count": null,
      "metadata": {
        "colab": {
          "base_uri": "https://localhost:8080/"
        },
        "id": "FwRHRO2-WzzT",
        "outputId": "8b29df63-bc94-4843-d980-961efd6e9a84"
      },
      "outputs": [
        {
          "output_type": "stream",
          "name": "stdout",
          "text": [
            "/bin/bash: line 1: Apip: command not found\n"
          ]
        }
      ],
      "source": [
        "!pip install pyspark"
      ]
    },
    {
      "cell_type": "code",
      "source": [
        "from pyspark.sql import SparkSession"
      ],
      "metadata": {
        "id": "glsCy1HWYESB"
      },
      "execution_count": null,
      "outputs": []
    },
    {
      "cell_type": "code",
      "source": [
        "spark = SparkSession.builder.appName(\"Basics\").getOrCreate()"
      ],
      "metadata": {
        "id": "5pFLA_bpYEVE"
      },
      "execution_count": null,
      "outputs": []
    },
    {
      "cell_type": "code",
      "source": [],
      "metadata": {
        "id": "lhNmaHe5cVqp"
      },
      "execution_count": null,
      "outputs": []
    },
    {
      "cell_type": "code",
      "source": [
        "data = [(\"Alice\", 29), (\"Bob\", 35), (\"Cathy\", 24)]\n",
        "columns = [\"Name\", \"Age\"]\n",
        "df = spark.createDataFrame(data, columns)"
      ],
      "metadata": {
        "id": "Z4USVxrFYEYO"
      },
      "execution_count": null,
      "outputs": []
    },
    {
      "cell_type": "code",
      "source": [
        "df.show()"
      ],
      "metadata": {
        "colab": {
          "base_uri": "https://localhost:8080/"
        },
        "id": "0VYbLWAvYEbW",
        "outputId": "21656a91-0e4d-44a5-ac9c-52094681ae09"
      },
      "execution_count": null,
      "outputs": [
        {
          "output_type": "stream",
          "name": "stdout",
          "text": [
            "+-----+---+\n",
            "| Name|Age|\n",
            "+-----+---+\n",
            "|Alice| 29|\n",
            "|  Bob| 35|\n",
            "|Cathy| 24|\n",
            "+-----+---+\n",
            "\n"
          ]
        }
      ]
    },
    {
      "cell_type": "code",
      "source": [
        "data  = spark.read.csv(\"./sample_data/california_housing_train.csv\", header=True, inferSchema=True)\n",
        "\n"
      ],
      "metadata": {
        "id": "gwAdPZpwYEeK"
      },
      "execution_count": 13,
      "outputs": []
    },
    {
      "cell_type": "code",
      "source": [
        "data.head()"
      ],
      "metadata": {
        "id": "uhiL3pP2ZXbQ",
        "colab": {
          "base_uri": "https://localhost:8080/"
        },
        "outputId": "c0e80176-cdf5-4d54-cd0a-df4ef0877c1b"
      },
      "execution_count": 14,
      "outputs": [
        {
          "output_type": "execute_result",
          "data": {
            "text/plain": [
              "Row(longitude=-114.31, latitude=34.19, housing_median_age=15.0, total_rooms=5612.0, total_bedrooms=1283.0, population=1015.0, households=472.0, median_income=1.4936, median_house_value=66900.0)"
            ]
          },
          "metadata": {},
          "execution_count": 14
        }
      ]
    },
    {
      "cell_type": "code",
      "source": [
        "data.show()"
      ],
      "metadata": {
        "id": "GeZmqhu-YEhC",
        "colab": {
          "base_uri": "https://localhost:8080/"
        },
        "outputId": "e3b0b648-0098-40d1-a827-d68c2c61f340"
      },
      "execution_count": 15,
      "outputs": [
        {
          "output_type": "stream",
          "name": "stdout",
          "text": [
            "+---------+--------+------------------+-----------+--------------+----------+----------+-------------+------------------+\n",
            "|longitude|latitude|housing_median_age|total_rooms|total_bedrooms|population|households|median_income|median_house_value|\n",
            "+---------+--------+------------------+-----------+--------------+----------+----------+-------------+------------------+\n",
            "|  -114.31|   34.19|              15.0|     5612.0|        1283.0|    1015.0|     472.0|       1.4936|           66900.0|\n",
            "|  -114.47|    34.4|              19.0|     7650.0|        1901.0|    1129.0|     463.0|         1.82|           80100.0|\n",
            "|  -114.56|   33.69|              17.0|      720.0|         174.0|     333.0|     117.0|       1.6509|           85700.0|\n",
            "|  -114.57|   33.64|              14.0|     1501.0|         337.0|     515.0|     226.0|       3.1917|           73400.0|\n",
            "|  -114.57|   33.57|              20.0|     1454.0|         326.0|     624.0|     262.0|        1.925|           65500.0|\n",
            "|  -114.58|   33.63|              29.0|     1387.0|         236.0|     671.0|     239.0|       3.3438|           74000.0|\n",
            "|  -114.58|   33.61|              25.0|     2907.0|         680.0|    1841.0|     633.0|       2.6768|           82400.0|\n",
            "|  -114.59|   34.83|              41.0|      812.0|         168.0|     375.0|     158.0|       1.7083|           48500.0|\n",
            "|  -114.59|   33.61|              34.0|     4789.0|        1175.0|    3134.0|    1056.0|       2.1782|           58400.0|\n",
            "|   -114.6|   34.83|              46.0|     1497.0|         309.0|     787.0|     271.0|       2.1908|           48100.0|\n",
            "|   -114.6|   33.62|              16.0|     3741.0|         801.0|    2434.0|     824.0|       2.6797|           86500.0|\n",
            "|   -114.6|    33.6|              21.0|     1988.0|         483.0|    1182.0|     437.0|        1.625|           62000.0|\n",
            "|  -114.61|   34.84|              48.0|     1291.0|         248.0|     580.0|     211.0|       2.1571|           48600.0|\n",
            "|  -114.61|   34.83|              31.0|     2478.0|         464.0|    1346.0|     479.0|        3.212|           70400.0|\n",
            "|  -114.63|   32.76|              15.0|     1448.0|         378.0|     949.0|     300.0|       0.8585|           45000.0|\n",
            "|  -114.65|   34.89|              17.0|     2556.0|         587.0|    1005.0|     401.0|       1.6991|           69100.0|\n",
            "|  -114.65|    33.6|              28.0|     1678.0|         322.0|     666.0|     256.0|       2.9653|           94900.0|\n",
            "|  -114.65|   32.79|              21.0|       44.0|          33.0|      64.0|      27.0|       0.8571|           25000.0|\n",
            "|  -114.66|   32.74|              17.0|     1388.0|         386.0|     775.0|     320.0|       1.2049|           44000.0|\n",
            "|  -114.67|   33.92|              17.0|       97.0|          24.0|      29.0|      15.0|       1.2656|           27500.0|\n",
            "+---------+--------+------------------+-----------+--------------+----------+----------+-------------+------------------+\n",
            "only showing top 20 rows\n",
            "\n"
          ]
        }
      ]
    },
    {
      "cell_type": "code",
      "source": [
        "data.printSchema()"
      ],
      "metadata": {
        "colab": {
          "base_uri": "https://localhost:8080/"
        },
        "id": "M2Da8zESa9gk",
        "outputId": "c67651a7-d1b9-4743-fb93-78b6140d93ad"
      },
      "execution_count": 16,
      "outputs": [
        {
          "output_type": "stream",
          "name": "stdout",
          "text": [
            "root\n",
            " |-- longitude: double (nullable = true)\n",
            " |-- latitude: double (nullable = true)\n",
            " |-- housing_median_age: double (nullable = true)\n",
            " |-- total_rooms: double (nullable = true)\n",
            " |-- total_bedrooms: double (nullable = true)\n",
            " |-- population: double (nullable = true)\n",
            " |-- households: double (nullable = true)\n",
            " |-- median_income: double (nullable = true)\n",
            " |-- median_house_value: double (nullable = true)\n",
            "\n"
          ]
        }
      ]
    },
    {
      "cell_type": "code",
      "source": [
        "data.describe().show()"
      ],
      "metadata": {
        "id": "i5VWhMeyYEkM",
        "colab": {
          "base_uri": "https://localhost:8080/"
        },
        "outputId": "a01d90b3-066c-4051-ee01-13cd083a6091"
      },
      "execution_count": 17,
      "outputs": [
        {
          "output_type": "stream",
          "name": "stdout",
          "text": [
            "+-------+-------------------+------------------+------------------+-----------------+-----------------+------------------+-----------------+------------------+------------------+\n",
            "|summary|          longitude|          latitude|housing_median_age|      total_rooms|   total_bedrooms|        population|       households|     median_income|median_house_value|\n",
            "+-------+-------------------+------------------+------------------+-----------------+-----------------+------------------+-----------------+------------------+------------------+\n",
            "|  count|              17000|             17000|             17000|            17000|            17000|             17000|            17000|             17000|             17000|\n",
            "|   mean|-119.56210823529375|  35.6252247058827| 28.58935294117647|2643.664411764706|539.4108235294118|1429.5739411764705|501.2219411764706| 3.883578100000021|207300.91235294117|\n",
            "| stddev| 2.0051664084260357|2.1373397946570867|12.586936981660406|2179.947071452777|421.4994515798648| 1147.852959159527|384.5208408559016|1.9081565183791036|115983.76438720895|\n",
            "|    min|            -124.35|             32.54|               1.0|              2.0|              1.0|               3.0|              1.0|            0.4999|           14999.0|\n",
            "|    max|            -114.31|             41.95|              52.0|          37937.0|           6445.0|           35682.0|           6082.0|           15.0001|          500001.0|\n",
            "+-------+-------------------+------------------+------------------+-----------------+-----------------+------------------+-----------------+------------------+------------------+\n",
            "\n"
          ]
        }
      ]
    },
    {
      "cell_type": "code",
      "source": [
        "data.count()"
      ],
      "metadata": {
        "id": "jLaqEE58YEnL",
        "colab": {
          "base_uri": "https://localhost:8080/"
        },
        "outputId": "a7f1a06e-957b-45af-f5a5-4275a25f9a46"
      },
      "execution_count": 18,
      "outputs": [
        {
          "output_type": "execute_result",
          "data": {
            "text/plain": [
              "17000"
            ]
          },
          "metadata": {},
          "execution_count": 18
        }
      ]
    },
    {
      "cell_type": "code",
      "source": [
        "df.select('Name').show()"
      ],
      "metadata": {
        "id": "yTNx3L7zYEqC",
        "colab": {
          "base_uri": "https://localhost:8080/"
        },
        "outputId": "df789697-d805-4bde-a166-6e6a0d77b4b6"
      },
      "execution_count": 19,
      "outputs": [
        {
          "output_type": "stream",
          "name": "stdout",
          "text": [
            "+-----+\n",
            "| Name|\n",
            "+-----+\n",
            "|Alice|\n",
            "|  Bob|\n",
            "|Cathy|\n",
            "+-----+\n",
            "\n"
          ]
        }
      ]
    },
    {
      "cell_type": "code",
      "source": [
        "df.filter(df.Age >30).show()"
      ],
      "metadata": {
        "id": "Fm3cfM-kYEte",
        "colab": {
          "base_uri": "https://localhost:8080/"
        },
        "outputId": "4e827d7b-42dc-4a64-b24e-d2b05a77aab9"
      },
      "execution_count": 20,
      "outputs": [
        {
          "output_type": "stream",
          "name": "stdout",
          "text": [
            "+----+---+\n",
            "|Name|Age|\n",
            "+----+---+\n",
            "| Bob| 35|\n",
            "+----+---+\n",
            "\n"
          ]
        }
      ]
    },
    {
      "cell_type": "code",
      "source": [
        "df.createOrReplaceTempView(\"people\")\n",
        "spark.sql(\"SELECT * FROM people WHERE Age > 30\").show()\n"
      ],
      "metadata": {
        "id": "RB9QAQ_aYEwz",
        "colab": {
          "base_uri": "https://localhost:8080/"
        },
        "outputId": "b8d2d18e-ed7d-4a2f-a779-3c946d80c533"
      },
      "execution_count": 21,
      "outputs": [
        {
          "output_type": "stream",
          "name": "stdout",
          "text": [
            "+----+---+\n",
            "|Name|Age|\n",
            "+----+---+\n",
            "| Bob| 35|\n",
            "+----+---+\n",
            "\n"
          ]
        }
      ]
    },
    {
      "cell_type": "code",
      "source": [
        "df1 = spark.createDataFrame([(1, \"Alice\"), (2, \"Bob\")], [\"ID\", \"Name\"])\n",
        "df2 = spark.createDataFrame([(1, \"F\"), (2, \"M\")], [\"ID\", \"Gender\"])\n",
        "df1.join(df2, \"ID\").show()\n"
      ],
      "metadata": {
        "colab": {
          "base_uri": "https://localhost:8080/"
        },
        "id": "jDd5fww4cW8K",
        "outputId": "089d6fb2-23a8-4551-c508-b0faa3834a17"
      },
      "execution_count": 22,
      "outputs": [
        {
          "output_type": "stream",
          "name": "stdout",
          "text": [
            "+---+-----+------+\n",
            "| ID| Name|Gender|\n",
            "+---+-----+------+\n",
            "|  1|Alice|     F|\n",
            "|  2|  Bob|     M|\n",
            "+---+-----+------+\n",
            "\n"
          ]
        }
      ]
    },
    {
      "cell_type": "code",
      "source": [
        "df.groupby('Age').count().show()"
      ],
      "metadata": {
        "colab": {
          "base_uri": "https://localhost:8080/"
        },
        "id": "QfYC7p6Tcc2c",
        "outputId": "416387c2-f3fb-4f17-94b3-9bfe76a0a06a"
      },
      "execution_count": 23,
      "outputs": [
        {
          "output_type": "stream",
          "name": "stdout",
          "text": [
            "+---+-----+\n",
            "|Age|count|\n",
            "+---+-----+\n",
            "| 29|    1|\n",
            "| 35|    1|\n",
            "| 24|    1|\n",
            "+---+-----+\n",
            "\n"
          ]
        }
      ]
    },
    {
      "cell_type": "code",
      "source": [
        "df.fillna(0).show()\n"
      ],
      "metadata": {
        "colab": {
          "base_uri": "https://localhost:8080/"
        },
        "id": "Z0-Ct1e7cc5W",
        "outputId": "d2c33682-d2e5-4c0e-deae-873f51b460fc"
      },
      "execution_count": 24,
      "outputs": [
        {
          "output_type": "stream",
          "name": "stdout",
          "text": [
            "+-----+---+\n",
            "| Name|Age|\n",
            "+-----+---+\n",
            "|Alice| 29|\n",
            "|  Bob| 35|\n",
            "|Cathy| 24|\n",
            "+-----+---+\n",
            "\n"
          ]
        }
      ]
    },
    {
      "cell_type": "code",
      "source": [
        "from pyspark.sql import SparkSession\n",
        "from pyspark.ml.regression import LinearRegression\n",
        "from pyspark.ml.feature import VectorAssembler\n",
        "\n",
        "# Step 1: Create a Spark Session\n",
        "spark = SparkSession.builder.appName(\"Linear Regression Example\").getOrCreate()\n",
        "\n",
        "# Step 2: Prepare the Dataset\n",
        "# Sample data: Features (X1, X2) and Target (Y)\n",
        "data = [\n",
        "    (1.0, 2.0, 4.0),\n",
        "    (2.0, 1.0, 5.0),\n",
        "    (3.0, 3.0, 7.0),\n",
        "    (4.0, 2.0, 10.0),\n",
        "    (5.0, 3.0, 12.0)\n",
        "]\n",
        "columns = [\"Feature1\", \"Feature2\", \"Target\"]\n",
        "\n",
        "# Create a DataFrame\n",
        "df = spark.createDataFrame(data, columns)\n",
        "df.show()\n",
        "\n",
        "# Step 3: Feature Engineering (Combine Features)\n",
        "# VectorAssembler combines multiple feature columns into a single vector column\n",
        "assembler = VectorAssembler(inputCols=[\"Feature1\", \"Feature2\"], outputCol=\"features\")\n",
        "vectorized_df = assembler.transform(df)\n",
        "\n",
        "# View the transformed data\n",
        "vectorized_df.select(\"features\", \"Target\").show()\n",
        "\n",
        "# Step 4: Create and Train the Linear Regression Model\n",
        "lr = LinearRegression(featuresCol=\"features\", labelCol=\"Target\")\n",
        "lr_model = lr.fit(vectorized_df)\n",
        "\n",
        "# Step 5: Model Summary and Results\n",
        "print(\"Coefficients: \", lr_model.coefficients)\n",
        "print(\"Intercept: \", lr_model.intercept)\n",
        "\n",
        "# Step 6: Predictions\n",
        "predictions = lr_model.transform(vectorized_df)\n",
        "predictions.select(\"features\", \"Target\", \"prediction\").show()\n",
        "\n",
        "# Stop the Spark Session\n",
        "spark.stop()\n"
      ],
      "metadata": {
        "colab": {
          "base_uri": "https://localhost:8080/"
        },
        "id": "pSYZEQrkcc73",
        "outputId": "24c25f05-96f4-47f5-9d9f-1f64a9f6b64b"
      },
      "execution_count": 33,
      "outputs": [
        {
          "output_type": "stream",
          "name": "stdout",
          "text": [
            "+--------+--------+------+\n",
            "|Feature1|Feature2|Target|\n",
            "+--------+--------+------+\n",
            "|     1.0|     2.0|   4.0|\n",
            "|     2.0|     1.0|   5.0|\n",
            "|     3.0|     3.0|   7.0|\n",
            "|     4.0|     2.0|  10.0|\n",
            "|     5.0|     3.0|  12.0|\n",
            "+--------+--------+------+\n",
            "\n",
            "+---------+------+\n",
            "| features|Target|\n",
            "+---------+------+\n",
            "|[1.0,2.0]|   4.0|\n",
            "|[2.0,1.0]|   5.0|\n",
            "|[3.0,3.0]|   7.0|\n",
            "|[4.0,2.0]|  10.0|\n",
            "|[5.0,3.0]|  12.0|\n",
            "+---------+------+\n",
            "\n",
            "Coefficients:  [2.0842105263157915,0.05263157894736627]\n",
            "Intercept:  1.2315789473684189\n",
            "+---------+------+------------------+\n",
            "| features|Target|        prediction|\n",
            "+---------+------+------------------+\n",
            "|[1.0,2.0]|   4.0|3.4210526315789433|\n",
            "|[2.0,1.0]|   5.0|5.4526315789473685|\n",
            "|[3.0,3.0]|   7.0| 7.642105263157893|\n",
            "|[4.0,2.0]|  10.0| 9.673684210526318|\n",
            "|[5.0,3.0]|  12.0|11.810526315789476|\n",
            "+---------+------+------------------+\n",
            "\n"
          ]
        }
      ]
    },
    {
      "cell_type": "code",
      "source": [
        "df"
      ],
      "metadata": {
        "colab": {
          "base_uri": "https://localhost:8080/"
        },
        "id": "pacpIeL5cc-2",
        "outputId": "362f9159-931b-4110-ca82-ddf46bcb9053"
      },
      "execution_count": 28,
      "outputs": [
        {
          "output_type": "execute_result",
          "data": {
            "text/plain": [
              "DataFrame[Name: string, Age: bigint]"
            ]
          },
          "metadata": {},
          "execution_count": 28
        }
      ]
    }
  ]
}